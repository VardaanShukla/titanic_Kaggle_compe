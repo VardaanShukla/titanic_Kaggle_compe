{
 "cells": [
  {
   "cell_type": "code",
   "execution_count": null,
   "id": "97d23f45-d5ee-439c-80c7-5f1c1118187b",
   "metadata": {},
   "outputs": [],
   "source": []
  }
 ],
 "metadata": {
  "kernelspec": {
   "display_name": "",
   "name": ""
  },
  "language_info": {
   "name": ""
  }
 },
 "nbformat": 4,
 "nbformat_minor": 5
}
